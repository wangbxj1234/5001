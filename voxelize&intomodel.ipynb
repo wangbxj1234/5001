{
  "nbformat": 4,
  "nbformat_minor": 0,
  "metadata": {
    "colab": {
      "provenance": [],
      "authorship_tag": "ABX9TyOJIIx0dJZPO3o3L1iaN4qS",
      "include_colab_link": true
    },
    "kernelspec": {
      "name": "python3",
      "display_name": "Python 3"
    },
    "language_info": {
      "name": "python"
    }
  },
  "cells": [
    {
      "cell_type": "markdown",
      "metadata": {
        "id": "view-in-github",
        "colab_type": "text"
      },
      "source": [
        "<a href=\"https://colab.research.google.com/github/wangbxj1234/5001/blob/main/voxelize%26intomodel.ipynb\" target=\"_parent\"><img src=\"https://colab.research.google.com/assets/colab-badge.svg\" alt=\"Open In Colab\"/></a>"
      ]
    },
    {
      "cell_type": "code",
      "source": [
        "import numpy as np\n",
        "import torch"
      ],
      "metadata": {
        "id": "7cxiUa2BHJI-"
      },
      "execution_count": 24,
      "outputs": []
    },
    {
      "cell_type": "code",
      "execution_count": 25,
      "metadata": {
        "id": "SIHuAM81HHt8"
      },
      "outputs": [],
      "source": [
        "def collate_fn(coord, feat, label):#(B,N,C)\n",
        "    #coord, feat, label = list(zip(*batch))#(B,N,C)\n",
        "    offset = [6,12]\n",
        "    \n",
        "    ####\n",
        "    #coord, feat, label = torch.cat(coord,dim=0), torch.cat(feat,dim=0), torch.cat(label,dim=0) #但是属于不同batch的，就算坐标近也不能分进一个v。\n",
        "    offset = torch.IntTensor(offset)##(N,3),(N,C),(N,),O\n",
        "\n",
        "    ##to np\n",
        "    coord, feat, label = coord.cpu().detach().numpy(),feat.cpu().detach().numpy(),label.cpu().detach().numpy()\n",
        "    ##\n",
        "    PN=0;\n",
        "    voxel=[]\n",
        "    for o in offset:\n",
        "        c, f, l =coord[PN:int(o),:],feat[PN:int(o),:],label[PN:int(o),:]#(n,C),(n,C),(n,)\n",
        "        discrete_coord = np.floor(c *4) \n",
        "        assert discrete_coord.ndim == 2\n",
        "    # Floor first for negative coordinates\n",
        "        arr = discrete_coord.copy()\n",
        "        arr = arr.astype(np.uint64, copy=False)\n",
        "        hashed_arr = np.uint64(14695981039346656037) * np.ones(arr.shape[0], dtype=np.uint64)\n",
        "        for j in range(arr.shape[1]):\n",
        "            hashed_arr *= np.uint64(1099511628211)\n",
        "            hashed_arr = np.bitwise_xor(hashed_arr, arr[:, j])\n",
        "        idx_sort = np.argsort(hashed_arr) \n",
        "        key_sort = hashed_arr[idx_sort] \n",
        "        _, count1 = np.unique(key_sort, return_counts=True)\n",
        "        coord[PN:int(o),:],feat[PN:int(o),:],label[PN:int(o),:]= c[idx_sort],f[idx_sort],l[idx_sort]\n",
        "        voxel.append(count1)\n",
        "        PN=int(o)\n",
        "\n",
        "    ##to torch\n",
        "    coord, feat, label = torch.tensor(coord),torch.tensor(feat),torch.tensor(label)\n",
        "    ##    \n",
        "\n",
        "    return coord, feat, label, offset, voxel"
      ]
    },
    {
      "cell_type": "code",
      "source": [
        "#coord, feat, label=torch.rand(2,6,3),torch.rand(2,6,4),torch.rand(2,6,1)\n",
        "coord, feat, label=torch.rand(2*6,3),torch.rand(2*6,32),torch.rand(2*6,1)\n",
        "coord[0,:]=coord[1,:]\n",
        "coord"
      ],
      "metadata": {
        "colab": {
          "base_uri": "https://localhost:8080/"
        },
        "id": "G5cXTWPPHcGY",
        "outputId": "0d4e6dbc-d5fa-467c-8dcd-d8079dcb6031"
      },
      "execution_count": 26,
      "outputs": [
        {
          "output_type": "execute_result",
          "data": {
            "text/plain": [
              "tensor([[0.2378, 0.6692, 0.8957],\n",
              "        [0.2378, 0.6692, 0.8957],\n",
              "        [0.7604, 0.7277, 0.9184],\n",
              "        [0.8798, 0.6896, 0.3182],\n",
              "        [0.2042, 0.1435, 0.4127],\n",
              "        [0.2708, 0.1910, 0.9157],\n",
              "        [0.5578, 0.7715, 0.8379],\n",
              "        [0.7552, 0.1765, 0.9433],\n",
              "        [0.9547, 0.1291, 0.8407],\n",
              "        [0.9380, 0.7244, 0.2583],\n",
              "        [0.6284, 0.5067, 0.1116],\n",
              "        [0.9409, 0.9553, 0.2261]])"
            ]
          },
          "metadata": {},
          "execution_count": 26
        }
      ]
    },
    {
      "cell_type": "code",
      "source": [
        "coord, feat, label, offset, voxel = collate_fn(coord, feat, label)\n",
        "print(coord.size(),feat.size(),label.size())"
      ],
      "metadata": {
        "colab": {
          "base_uri": "https://localhost:8080/"
        },
        "id": "28CuY9UGQ_mb",
        "outputId": "6ee7330c-28df-4e43-b34a-523ef075ea6c"
      },
      "execution_count": 27,
      "outputs": [
        {
          "output_type": "stream",
          "name": "stdout",
          "text": [
            "torch.Size([12, 3]) torch.Size([12, 32]) torch.Size([12, 1])\n"
          ]
        }
      ]
    },
    {
      "cell_type": "code",
      "source": [
        "voxel"
      ],
      "metadata": {
        "colab": {
          "base_uri": "https://localhost:8080/"
        },
        "id": "hlRaCQL6YJO9",
        "outputId": "4108de5e-546a-4abb-a199-4dcdf20079b7"
      },
      "execution_count": 28,
      "outputs": [
        {
          "output_type": "execute_result",
          "data": {
            "text/plain": [
              "[array([1, 1, 1, 1, 2]), array([2, 1, 1, 1, 1])]"
            ]
          },
          "metadata": {},
          "execution_count": 28
        }
      ]
    },
    {
      "cell_type": "code",
      "source": [
        "voxel2=np.concatenate(voxel, axis=0)# 6-1=5\n",
        "torch.tensor(voxel2)#好像实际操作只需要 voxel-wies的分界符，不需要 pcloud-wise的。"
      ],
      "metadata": {
        "colab": {
          "base_uri": "https://localhost:8080/"
        },
        "id": "CKiPWwy1Q2AD",
        "outputId": "02c0205f-e1a0-44f5-b6db-8a0ba238ae16"
      },
      "execution_count": 29,
      "outputs": [
        {
          "output_type": "execute_result",
          "data": {
            "text/plain": [
              "tensor([1, 1, 1, 1, 2, 2, 1, 1, 1, 1])"
            ]
          },
          "metadata": {},
          "execution_count": 29
        }
      ]
    },
    {
      "cell_type": "code",
      "source": [
        "#好像只需要 voxel-wise的分界符，不需要 pcloud-wise的。\n",
        "voxel3=np.cumsum(voxel2)\n",
        "vo=torch.IntTensor(voxel3)#torch.IntTensor"
      ],
      "metadata": {
        "id": "ZQ-tfhZTU4VE"
      },
      "execution_count": 30,
      "outputs": []
    },
    {
      "cell_type": "markdown",
      "source": [
        "then. into model"
      ],
      "metadata": {
        "id": "uBcH-EN7h_Xy"
      }
    },
    {
      "cell_type": "code",
      "source": [
        "import torch\n",
        "import torch.nn.functional as F\n",
        "import numpy as np\n",
        "\n",
        "from torch import Tensor\n",
        "from typing import Optional\n",
        "from torch import nn\n",
        "\n",
        "\n",
        "class linear_Attention(nn.Module):\n",
        "    # flow attention in normal version\n",
        "    def __init__(self, in_planes):\n",
        "        super(linear_Attention, self).__init__()\n",
        "        self.n_heads =8\n",
        "        self.query_projection = nn.Linear(in_planes, in_planes)\n",
        "        self.key_projection = nn.Linear(in_planes, in_planes)\n",
        "        self.value_projection = nn.Linear(in_planes, in_planes)\n",
        "        self.out_projection = nn.Linear(in_planes, in_planes)\n",
        "        self.dropout = nn.Dropout(0.05)\n",
        "        self.eps = 1e-6\n",
        "\n",
        "    def kernel_method(self, x):\n",
        "        return torch.sigmoid(x)\n",
        "\n",
        "    def dot_product(self, q, k, v):\n",
        "        kv = torch.einsum(\"hld,hlm->hdm\", k, v)\n",
        "        qkv = torch.einsum(\"hld,hdm->hlm\", q, kv)\n",
        "        return qkv\n",
        "\n",
        "    def forward(self, pxo) -> torch.Tensor:\n",
        "        p, x, o = pxo   \n",
        "        PN=0;\n",
        "        x_sub=[]\n",
        "        p_sub=[]\n",
        "        out=[]\n",
        "        for offset in o:\n",
        "           x_s=x[PN:int(offset),:]\n",
        "           x_sub.append(x_s)\n",
        "           tgt_len, embed_dim = x_s.size() ###(N,d) \n",
        "           #print(offset,tgt_len, embed_dim)\n",
        "           PN=int(offset)\n",
        "        ## input: (L or S) D; output: L D\n",
        "        ## Note: queries, keys, values are not projected yet\n",
        "        ## 1. Linear projection\n",
        "           L=tgt_len\n",
        "           print('L',L)\n",
        "           S=tgt_len\n",
        "           Q = self.query_projection(x_s).view(L, self.n_heads, -1)\n",
        "           K = self.key_projection(x_s).view(S, self.n_heads, -1)\n",
        "           V = self.value_projection(x_s).view(S, self.n_heads, -1)\n",
        "           #Q = queries.transpose(0, 1)\n",
        "           #K = keys.transpose(0, 1)\n",
        "           #V = values.transpose(0, 1)\n",
        "           # 2. Non-negative projection\n",
        "           Q = self.kernel_method(Q)\n",
        "           K = self.kernel_method(K)\n",
        "\n",
        "           KV = torch.einsum(\"shd,shm->hmd\", K, V)\n",
        "\n",
        "           # Compute the normalizer\n",
        "           Z = 1/(torch.einsum(\"lhd,hd->lh\", Q, K.sum(dim=0))+self.eps)\n",
        "\n",
        "           # Finally compute and return the new values\n",
        "           V = torch.einsum(\"lhd,hmd,lh->lhm\", Q, KV, Z)\n",
        "\n",
        "           output = V.reshape(L, -1)\n",
        "           output = self.out_projection(output)\n",
        "           output = self.dropout(output)\n",
        "\n",
        "           out.append(output)\n",
        "        #out=torch.IntTensor(out)\n",
        "        out=torch.cat(out,dim=0)\n",
        "\n",
        "        return out\n",
        "\n"
      ],
      "metadata": {
        "id": "vb8a7eNRhp39"
      },
      "execution_count": 38,
      "outputs": []
    },
    {
      "cell_type": "code",
      "source": [
        "planes=32\n",
        "transformer2 = linear_Attention(planes)\n",
        "right_res = transformer2([coord, feat, vo])\n",
        "print(right_res.shape)"
      ],
      "metadata": {
        "colab": {
          "base_uri": "https://localhost:8080/"
        },
        "id": "a-Bw9tQziIXB",
        "outputId": "c90a27de-370c-4333-ab90-1c2310e062dc"
      },
      "execution_count": 39,
      "outputs": [
        {
          "output_type": "stream",
          "name": "stdout",
          "text": [
            "L 1\n",
            "L 1\n",
            "L 1\n",
            "L 1\n",
            "L 2\n",
            "L 2\n",
            "L 1\n",
            "L 1\n",
            "L 1\n",
            "L 1\n",
            "torch.Size([12, 32])\n"
          ]
        }
      ]
    }
  ]
}